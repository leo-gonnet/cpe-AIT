{
  "cells": [
    {
      "cell_type": "markdown",
      "id": "3d06ac8f",
      "metadata": {
        "id": "3d06ac8f"
      },
      "source": [
        "Il existe de nombreux *solveurs linéaires*, c'est-à-dire des logiciels capables de résoudre des programmes linéaires (continus ou en nombres entiers). Certains sont gratuits (comme GLPK (*Gnu Linear Programming Kit*), ou le solveur intégré à LibreOffice Calc), d'autres sont payants (comme IBM Cplex, Gurobi, XPress...) et sont capables de résoudre des problèmes comportant plusieurs dizaines de milliers de variables ou de contraintes.\n",
        "\n",
        "Il existe également des bibliothèques pour tous les langages de programmation. Dans ce TP, vous utiliserez dans un premier temps la bibliothèque **SciPy** (la principale bibliothèque de calcul scientifique en Python). Vous découvrirez ensuite la bibliothèque **PuLP** qui permet de *modéliser* un programme linéaire, et qu'on peut ensuite connecter à de nombreux solveurs pour résoudre le dit programme ; ici, vous utiliserez **GLPK**."
      ]
    },
    {
      "cell_type": "markdown",
      "id": "7530b21d",
      "metadata": {
        "id": "7530b21d"
      },
      "source": [
        "# Utilisation de SciPy pour la programmation linéaire"
      ]
    },
    {
      "cell_type": "markdown",
      "id": "36396db8",
      "metadata": {
        "id": "36396db8"
      },
      "source": [
        "Pour définir et résoudre des programmes linéaires avec SciPy, la première chose à faire est d'importer le module `scipy.optimize.linprog` :"
      ]
    },
    {
      "cell_type": "code",
      "execution_count": null,
      "id": "ffd03fe7",
      "metadata": {
        "id": "ffd03fe7"
      },
      "outputs": [],
      "source": [
        "from scipy.optimize import linprog"
      ]
    },
    {
      "cell_type": "markdown",
      "id": "fefa48d9",
      "metadata": {
        "id": "fefa48d9"
      },
      "source": [
        "Nous allons voir comment résoudre le programme linéaire suivant :\n",
        "![image-2.png](attachment:file:///\\\\\\\\\\home/amour/Bureau/CPE/cpe-AIT/TP9/image-2.png)"
      ]
    },
    {
      "cell_type": "markdown",
      "id": "c3bae331",
      "metadata": {
        "id": "c3bae331"
      },
      "source": [
        "#### Exercice : commencez par représenter graphiquement ce problème à l'aide de l'outil en ligne Geogebra\n",
        "Identifiez le polygone des solutions réalisables puis déterminez les coordonnées de la solution optimale\n",
        "\n",
        "💡 Pour chaque contrainte, cochez la case `Inverser le remplissage`, dans l'onglet `Style` de ses propriétés\n",
        "___"
      ]
    },
    {
      "cell_type": "markdown",
      "id": "1fcf1bb3",
      "metadata": {
        "id": "1fcf1bb3"
      },
      "source": [
        "Le problème avec `linprog`, c'est qu'il n'accepte que les programmes linéaires ayant une forme bien particulière :\n",
        "* seulement des problèmes de *minimisation*\n",
        "* seulement des contraintes de type *inférieur à* ($\\leq$)\n",
        "\n",
        "En fait, ce n'est pas un problème, et on peut très facilement transformer n'importe quel programme linéaire en un programme linéaire ayant la forme demandée :\n",
        "* plutôt que *maximiser* la fonction $z = x + 2y$, on va *minimiser* son *opposée* (c'est-à-dire qu'on va multiplier les deux membres de l'égalité par $-1$) : la fonction objectif devient donc `min -z = -x - 2y`\n",
        "* de même, pour transformer une contrainte de type *supérieur à* ($\\geq$) en contrainte de type $\\leq$, il suffit de multiplier chaque membre par $-1$ : par exemple, $-x + 2y \\geq -2$ devient $x - 2y \\leq 2$.\n",
        "\n",
        "On obtient ainsi un système équivalent au système original, et qui a les mêmes solutions :\n",
        "![image.png](attachment:image.png)"
      ]
    },
    {
      "cell_type": "markdown",
      "id": "a0f187b5",
      "metadata": {
        "id": "a0f187b5"
      },
      "source": [
        "L'étape suivante consiste à saisir toutes les valeurs dans des tableaux Python :"
      ]
    },
    {
      "cell_type": "code",
      "execution_count": 3,
      "id": "985c62bd",
      "metadata": {
        "id": "985c62bd"
      },
      "outputs": [],
      "source": [
        "# On commence par la fonction objectif :\n",
        "obj = [-1, -2]\n",
        "#      ─┬  ─┬\n",
        "#       │   └┤ Coefficient de y\n",
        "#       └────┤ Coefficient de x\n",
        "\n",
        "# Ensuite, les membres gauches (Left Hand Side en anglais, ou lhs) des inégalités\n",
        "lhs_ineq = [[ 2,  1],  # contrainte rouge\n",
        "            [-4,  5],  # contrainte bleue\n",
        "            [ 1, -2]]  # contrainte jaune\n",
        "\n",
        "# Puis les membres droits (rhs) des inégalités\n",
        "rhs_ineq = [20,  # contrainte rouge\n",
        "            10,  # contrainte bleue\n",
        "             2]  # contrainte jaune\n",
        "\n",
        "# On procède de la même manière pour les contraintes de type égalité :\n",
        "lhs_eq = [[-1, 5]]  # contrainte verte\n",
        "rhs_eq = [15]       # contrainte verte"
      ]
    },
    {
      "cell_type": "markdown",
      "id": "04373555",
      "metadata": {
        "id": "04373555"
      },
      "source": [
        "⚠️ Chaque liste Python représente une **colonne** ! Pour les coefficients d'une même contrainte, on doit utiliser des listes à deux dimensions !"
      ]
    },
    {
      "cell_type": "markdown",
      "id": "de3903a2",
      "metadata": {
        "id": "de3903a2"
      },
      "source": [
        "Il ne faut pas oublier de spécifier le *domaine* des variables, c'est-à-dire les valeurs qu'elles peuvent prendre. Dans notre cas, il s'agit de variables *réelles* (ou *continues*) pouvant prendre toutes les valeurs possibles comprises entre $0$ et $+\\infty$ :"
      ]
    },
    {
      "cell_type": "code",
      "execution_count": 4,
      "id": "f5ed9993",
      "metadata": {
        "id": "f5ed9993"
      },
      "outputs": [],
      "source": [
        "# Bornes (bounds en anglais) des variables\n",
        "bnd = [(0, float(\"inf\")),  # Bornes de x\n",
        "       (0, float(\"inf\"))]  # Bornes de y"
      ]
    },
    {
      "cell_type": "markdown",
      "id": "ab38707e",
      "metadata": {
        "id": "ab38707e"
      },
      "source": [
        "💡 A la place de `float(\"inf\")`, vous pouvez utiliser `math.inf`, `numpy.inf`, ou `scipy.inf`."
      ]
    },
    {
      "cell_type": "markdown",
      "id": "645f532e",
      "metadata": {
        "id": "645f532e"
      },
      "source": [
        "Il ne reste plus qu'à passer tous ces éléments à la méthode `linprog` :"
      ]
    },
    {
      "cell_type": "code",
      "execution_count": 5,
      "id": "99af8a08",
      "metadata": {
        "id": "99af8a08",
        "outputId": "cddc6e61-61c8-4088-d308-bb704c09b78c",
        "colab": {
          "base_uri": "https://localhost:8080/"
        }
      },
      "outputs": [
        {
          "output_type": "stream",
          "name": "stderr",
          "text": [
            "<ipython-input-5-09b67cb628ac>:1: DeprecationWarning: `method='revised simplex'` is deprecated and will be removed in SciPy 1.11.0. Please use one of the HiGHS solvers (e.g. `method='highs'`) in new code.\n",
            "  opt = linprog(c=obj, A_ub=lhs_ineq, b_ub=rhs_ineq,\n"
          ]
        },
        {
          "output_type": "execute_result",
          "data": {
            "text/plain": [
              " message: Optimization terminated successfully.\n",
              " success: True\n",
              "  status: 0\n",
              "     fun: -16.818181818181817\n",
              "       x: [ 7.727e+00  4.545e+00]\n",
              "     nit: 3"
            ]
          },
          "metadata": {},
          "execution_count": 5
        }
      ],
      "source": [
        "opt = linprog(c=obj, A_ub=lhs_ineq, b_ub=rhs_ineq,\n",
        "              A_eq=lhs_eq, b_eq=rhs_eq, bounds=bnd,\n",
        "              method=\"revised simplex\")\n",
        "opt"
      ]
    },
    {
      "cell_type": "markdown",
      "id": "44f48a21",
      "metadata": {
        "id": "44f48a21"
      },
      "source": [
        "💡 Le paramètre `method` permet de spécifier l'algorithme à utiliser. Il y a trois choix possibles :\n",
        "* `simplex` est l'algorithme du simplexe original, qui peut \"buter\" sur certains problèmes\n",
        "* `revised_simplex` est une version améliorée du simplexe, dite \"en deux phases\"\n",
        "* `interior_points` est un algorithme basé sur une méthode appelée \"points intérieurs\". C'est l'option par défaut.\n",
        "\n",
        "Ici, on voit que la résolution du problème s'est terminée correctement (`Optimization terminated successfully`).\n",
        "\n",
        "* L'optimum de la fonction objectif est donné par `fun` (on voit ici qu'il vaut environ `-16.818`)\n",
        "* `nit` est le nombre d'itérations effectuées par l'algorithme pour trouver la solution\n",
        "* `status : 0` signifie que l'optimum a été trouvé\n",
        "* `x` est un tableau contenant les valeurs des variables permettant d'obtenir la solution trouvée.\n",
        "* `slack` est le tableau des *écarts* par rapport aux bornes de chaque contrainte : par exemple, l'écart de la première contrainte est `0`, ce qui signifie que la solution optimale conduit à `2x + y = 20`. En revanche, on a un écart de `18.1818` sur la deuxième contrainte : en effet, `-4x + 5y = -8.1818` alors qu'on pouvait monter jusqu'à `10`.\n",
        "\n",
        "On peut accéder à tous ces éléments séparément :"
      ]
    },
    {
      "cell_type": "code",
      "execution_count": 6,
      "id": "efe68731",
      "metadata": {
        "id": "efe68731",
        "outputId": "1c80019b-42be-4fee-f2ba-4350aa76b227",
        "colab": {
          "base_uri": "https://localhost:8080/"
        }
      },
      "outputs": [
        {
          "output_type": "execute_result",
          "data": {
            "text/plain": [
              "True"
            ]
          },
          "metadata": {},
          "execution_count": 6
        }
      ],
      "source": [
        "opt.success"
      ]
    },
    {
      "cell_type": "code",
      "execution_count": 7,
      "id": "9fa5f851",
      "metadata": {
        "id": "9fa5f851",
        "outputId": "5791bd13-a041-4ef2-dac3-041b301c9ff4",
        "colab": {
          "base_uri": "https://localhost:8080/"
        }
      },
      "outputs": [
        {
          "output_type": "execute_result",
          "data": {
            "text/plain": [
              "array([7.72727273, 4.54545455])"
            ]
          },
          "metadata": {},
          "execution_count": 7
        }
      ],
      "source": [
        "opt.x"
      ]
    },
    {
      "cell_type": "markdown",
      "id": "466303ae",
      "metadata": {
        "id": "466303ae"
      },
      "source": [
        "Quand on calcule le résultat de la fonction objectif avec ces valeurs, on tombe bien sur l'optimum trouvé :"
      ]
    },
    {
      "cell_type": "code",
      "execution_count": null,
      "id": "172f2c4f",
      "metadata": {
        "id": "172f2c4f",
        "outputId": "ac76acc8-03c4-49d3-ec20-c96bacc0db23"
      },
      "outputs": [
        {
          "data": {
            "text/plain": [
              "-16.818181818181817"
            ]
          },
          "execution_count": 18,
          "metadata": {},
          "output_type": "execute_result"
        }
      ],
      "source": [
        "obj[0] * opt.x[0] + obj[1]*opt.x[1]"
      ]
    },
    {
      "cell_type": "markdown",
      "id": "0c251713",
      "metadata": {
        "id": "0c251713"
      },
      "source": [
        "#### Exercice : résolvez le programme linéaire du cours à l'aide de `scipy.linprog`"
      ]
    },
    {
      "cell_type": "code",
      "execution_count": 15,
      "id": "1de24c43",
      "metadata": {
        "id": "1de24c43",
        "colab": {
          "base_uri": "https://localhost:8080/"
        },
        "outputId": "4dc80682-4f02-46f8-b10b-b104590e597c"
      },
      "outputs": [
        {
          "output_type": "stream",
          "name": "stderr",
          "text": [
            "<ipython-input-15-6fee2f3823fd>:19: DeprecationWarning: `method='revised simplex'` is deprecated and will be removed in SciPy 1.11.0. Please use one of the HiGHS solvers (e.g. `method='highs'`) in new code.\n",
            "  opt = linprog(c=obj, A_ub=lhs_ineq, b_ub=rhs_ineq, bounds=bnd,\n"
          ]
        },
        {
          "output_type": "execute_result",
          "data": {
            "text/plain": [
              " message: Optimization terminated successfully.\n",
              " success: True\n",
              "  status: 0\n",
              "     fun: -159800.0\n",
              "       x: [ 1.800e+02  4.400e+02]\n",
              "     nit: 2"
            ]
          },
          "metadata": {},
          "execution_count": 15
        }
      ],
      "source": [
        "# On commence par la fonction objectif :\n",
        "obj = [-350, -220]\n",
        "#      ─┬  ─┬\n",
        "#       │   └┤ Coefficient de y\n",
        "#       └────┤ Coefficient de x\n",
        "\n",
        "# Ensuite, les membres gauches (Left Hand Side en anglais, ou lhs) des inégalités\n",
        "lhs_ineq = [[ 4,  2],  # contrainte rouge\n",
        "            [1,  3]]\n",
        "\n",
        "# Puis les membres droits (rhs) des inégalités\n",
        "rhs_ineq = [1600,  # contrainte rouge\n",
        "            1500]\n",
        "\n",
        "# Bornes (bounds en anglais) des variables\n",
        "bnd = [(0, float(\"inf\")),  # Bornes de x\n",
        "       (0, float(\"inf\"))]  # Bornes de y\n",
        "       \n",
        "opt = linprog(c=obj, A_ub=lhs_ineq, b_ub=rhs_ineq, bounds=bnd,\n",
        "              method=\"revised simplex\")\n",
        "opt"
      ]
    },
    {
      "cell_type": "markdown",
      "id": "d41b0e8c",
      "metadata": {
        "id": "d41b0e8c"
      },
      "source": [
        "SciPy est très pratique pour résoudre des problèmes de petite taille. Néanmoins, il a plusieurs inconvénients :\n",
        "* il ne permet pas de faire appel à des solveurs externes, plus puissants\n",
        "* il ne sait pas travailler avec des variables contraintes à être entières\n",
        "* il ne fournit aucune classe ou méthode qui facilite l'écriture du modèle (tout passe par des listes ou des matrices), ce qui rend complexe et source d'erreur l'écriture de modèles plus grands\n",
        "* il ne gère pas directement les problèmes de maximisation\n",
        "* il ne gère pas les contraintes de type \"supérieur ou égal à\"\n",
        "\n",
        "Heureusement, il existe de nombreuses alternatives. L'une d'entre elles est `PuLP`, que vous allez découvrir dans la section suivante."
      ]
    },
    {
      "cell_type": "markdown",
      "id": "27b71219",
      "metadata": {
        "id": "27b71219"
      },
      "source": [
        "# PuLP"
      ]
    },
    {
      "cell_type": "markdown",
      "id": "41067b6f",
      "metadata": {
        "id": "41067b6f"
      },
      "source": [
        "Comme précisé ci-dessus, `PuLP` dispose d'un ensemble de classes et méthodes qui simplifient grandement l'écriture d'un programme linéaire comparé à `SciPy`.\n",
        "\n",
        "`PuLP` n'est généralement pas préinstallé dans les distributions ; aussi, si vous ne l'avez pas encore, il faut commencer par l'installer :"
      ]
    },
    {
      "cell_type": "code",
      "execution_count": 16,
      "id": "4c71d912",
      "metadata": {
        "id": "4c71d912",
        "colab": {
          "base_uri": "https://localhost:8080/"
        },
        "outputId": "6ed9e142-60ed-4e81-9cbc-11adf67a2d09"
      },
      "outputs": [
        {
          "output_type": "stream",
          "name": "stdout",
          "text": [
            "Looking in indexes: https://pypi.org/simple, https://us-python.pkg.dev/colab-wheels/public/simple/\n",
            "Collecting pulp\n",
            "  Downloading PuLP-2.7.0-py3-none-any.whl (14.3 MB)\n",
            "\u001b[2K     \u001b[90m━━━━━━━━━━━━━━━━━━━━━━━━━━━━━━━━━━━━━━━\u001b[0m \u001b[32m14.3/14.3 MB\u001b[0m \u001b[31m108.0 MB/s\u001b[0m eta \u001b[36m0:00:00\u001b[0m\n",
            "\u001b[?25hInstalling collected packages: pulp\n",
            "Successfully installed pulp-2.7.0\n"
          ]
        }
      ],
      "source": [
        "!pip install pulp"
      ]
    },
    {
      "cell_type": "markdown",
      "id": "cd785997",
      "metadata": {
        "id": "cd785997"
      },
      "source": [
        "Il faut ensuite, comme d'habitude, importer tout ce dont nous aurons besoin :"
      ]
    },
    {
      "cell_type": "code",
      "execution_count": 17,
      "id": "04640810",
      "metadata": {
        "id": "04640810"
      },
      "outputs": [],
      "source": [
        "from pulp import LpMaximize, LpMinimize, LpProblem, LpStatus, lpSum, LpVariable"
      ]
    },
    {
      "cell_type": "markdown",
      "id": "8ec188b5",
      "metadata": {
        "id": "8ec188b5"
      },
      "source": [
        "Pour illustrer l'utilisation de `PuLP`, nous allons reprendre le programme linéaire du début du TP :\n",
        "![image.png](attachment:image.png)"
      ]
    },
    {
      "cell_type": "markdown",
      "id": "8bffcc86",
      "metadata": {
        "id": "8bffcc86"
      },
      "source": [
        "La première étape consiste à initialiser une *instance* de la classe `LpProblem` pour représenter le problème :"
      ]
    },
    {
      "cell_type": "code",
      "execution_count": 18,
      "id": "a9b0efbe",
      "metadata": {
        "id": "a9b0efbe"
      },
      "outputs": [],
      "source": [
        "# Création du modèle\n",
        "modele = LpProblem(name=\"exemple-tp\", sense=LpMaximize)"
      ]
    },
    {
      "cell_type": "markdown",
      "id": "dffdb4c5",
      "metadata": {
        "id": "dffdb4c5"
      },
      "source": [
        "💡 Le paramètre `sense` permet de spécifier si résout un problème de *maximisation* (`LpMaximize`) ou de *minimisation* (`LpMinimize`)."
      ]
    },
    {
      "cell_type": "markdown",
      "id": "4c1290f8",
      "metadata": {
        "id": "4c1290f8"
      },
      "source": [
        "On définit ensuite les variables en tant qu'instances de la classe `LpVariable` :"
      ]
    },
    {
      "cell_type": "code",
      "execution_count": 19,
      "id": "e18f972a",
      "metadata": {
        "id": "e18f972a"
      },
      "outputs": [],
      "source": [
        "# Initialisation des variables\n",
        "x = LpVariable(name=\"x\", lowBound=0)\n",
        "y = LpVariable(name=\"y\", lowBound=0)"
      ]
    },
    {
      "cell_type": "markdown",
      "id": "e8451e97",
      "metadata": {
        "id": "e8451e97"
      },
      "source": [
        "💡 Par défaut, les variables peuvent prendre n'importe quelle valeur comprise entre $-\\infty$ et $+\\infty$. C'est pourquoi on a besoin ici de spécifier `lowBound=0`.\n",
        "Il existe également un paramètre `cat` qui permet de définir la *catégorie* d'une variable : continue (`Continuous`, par défaut), entière (`Integer`), binaire (`Binary`)... "
      ]
    },
    {
      "cell_type": "markdown",
      "id": "65470e9c",
      "metadata": {
        "id": "65470e9c"
      },
      "source": [
        "On peut ensuite utiliser ces variables pour créer d'autres objets `PuLP`, qui représentent des expressions linéaires ou des contraintes :"
      ]
    },
    {
      "cell_type": "code",
      "execution_count": 20,
      "id": "fa44d158",
      "metadata": {
        "id": "fa44d158",
        "outputId": "8b34430f-61b4-4034-9cbf-d7e2e8767ef9",
        "colab": {
          "base_uri": "https://localhost:8080/"
        }
      },
      "outputs": [
        {
          "output_type": "execute_result",
          "data": {
            "text/plain": [
              "pulp.pulp.LpAffineExpression"
            ]
          },
          "metadata": {},
          "execution_count": 20
        }
      ],
      "source": [
        "expression = 2 * x + 4 * y\n",
        "type(expression)"
      ]
    },
    {
      "cell_type": "code",
      "execution_count": 21,
      "id": "08a6838e",
      "metadata": {
        "id": "08a6838e",
        "outputId": "46adac8a-30db-42af-c635-0384166e0fd3",
        "colab": {
          "base_uri": "https://localhost:8080/"
        }
      },
      "outputs": [
        {
          "output_type": "execute_result",
          "data": {
            "text/plain": [
              "pulp.pulp.LpConstraint"
            ]
          },
          "metadata": {},
          "execution_count": 21
        }
      ],
      "source": [
        "constraint = 2 * x + 4 * y >= 8\n",
        "type(constraint)"
      ]
    },
    {
      "cell_type": "markdown",
      "id": "09ce7504",
      "metadata": {
        "id": "09ce7504"
      },
      "source": [
        "Il est ensuite très simple d'ajouter des contraintes au modèle : il suffit d'utiliser l'opérateur `+=` :"
      ]
    },
    {
      "cell_type": "code",
      "execution_count": 22,
      "id": "1469f54c",
      "metadata": {
        "id": "1469f54c"
      },
      "outputs": [],
      "source": [
        "# Ajout des contraintes au modèle\n",
        "modele += (2 * x + y <= 20, \"contrainte rouge\")\n",
        "modele += (4 * x - 5 * y >= -10, \"contrainte bleue\")\n",
        "modele += (-x + 2 * y >= -2, \"contrainte jaune\")\n",
        "modele += (-x + 5 * y == 15, \"contrainte verte\")"
      ]
    },
    {
      "cell_type": "markdown",
      "id": "fe7880ab",
      "metadata": {
        "id": "fe7880ab"
      },
      "source": [
        "L'ajout de la fonction objectif se fait de manière similaire :"
      ]
    },
    {
      "cell_type": "code",
      "execution_count": 23,
      "id": "daef31d3",
      "metadata": {
        "id": "daef31d3"
      },
      "outputs": [],
      "source": [
        "# Ajout de la fonction objectif\n",
        "obj_func = x + 2 * y\n",
        "modele += obj_func"
      ]
    },
    {
      "cell_type": "markdown",
      "id": "95c50c4b",
      "metadata": {
        "id": "95c50c4b"
      },
      "source": [
        "💡 Quand on manipule beaucoup de variables, il est plus simple d'utiliser la fonction `lpSum` avec une liste ou un autre objet itérable, plutôt que d'utiliser l'opérateur `+` : par exemple, on aurait pu écrire `modele += lpSum([x, 2 * y])`"
      ]
    },
    {
      "cell_type": "markdown",
      "id": "f426e772",
      "metadata": {
        "id": "f426e772"
      },
      "source": [
        "Vous pouvez à présent voir la définition complète de votre modèle :"
      ]
    },
    {
      "cell_type": "code",
      "execution_count": 24,
      "id": "4e6b0aea",
      "metadata": {
        "id": "4e6b0aea",
        "outputId": "16857c6b-a8ad-4421-e420-2b7966301ef5",
        "colab": {
          "base_uri": "https://localhost:8080/"
        }
      },
      "outputs": [
        {
          "output_type": "execute_result",
          "data": {
            "text/plain": [
              "exemple-tp:\n",
              "MAXIMIZE\n",
              "1*x + 2*y + 0\n",
              "SUBJECT TO\n",
              "contrainte_rouge: 2 x + y <= 20\n",
              "\n",
              "contrainte_bleue: 4 x - 5 y >= -10\n",
              "\n",
              "contrainte_jaune: - x + 2 y >= -2\n",
              "\n",
              "contrainte_verte: - x + 5 y = 15\n",
              "\n",
              "VARIABLES\n",
              "x Continuous\n",
              "y Continuous"
            ]
          },
          "metadata": {},
          "execution_count": 24
        }
      ],
      "source": [
        "modele"
      ]
    },
    {
      "cell_type": "markdown",
      "id": "537c1a0b",
      "metadata": {
        "id": "537c1a0b"
      },
      "source": [
        "Il ne reste plus qu'à demander la résolution du problème !"
      ]
    },
    {
      "cell_type": "code",
      "execution_count": 26,
      "id": "80bff4a1",
      "metadata": {
        "id": "80bff4a1",
        "outputId": "aef96ca4-c8fe-4c7d-b43f-e7eb898685ec",
        "colab": {
          "base_uri": "https://localhost:8080/"
        }
      },
      "outputs": [
        {
          "output_type": "execute_result",
          "data": {
            "text/plain": [
              "1"
            ]
          },
          "metadata": {},
          "execution_count": 26
        }
      ],
      "source": [
        "modele.solve()"
      ]
    },
    {
      "cell_type": "markdown",
      "id": "ce12c8f7",
      "metadata": {
        "id": "ce12c8f7"
      },
      "source": [
        "Cette réponse est plutôt... \"concise\" ! En fait, la méthode `solve()` renvoie un *statut* (objet `LpStatus`) : il vaut `0` si le modèle n'a pas été résolu, `1` si l'optimum a été trouvé, `-1` si le modèle est irréalisable (le polygone des solutions réalisables est vide), et `-2` si le polygone des solutions réalisables n'est pas borné (ce qui arrive parfois)).\n",
        "\n",
        "On peut heureusement accéder aux différents éléments du résultat à l'aide des méthodes adéquates :"
      ]
    },
    {
      "cell_type": "code",
      "execution_count": 27,
      "id": "507f05cc",
      "metadata": {
        "id": "507f05cc",
        "outputId": "133f7994-4dbf-4186-cbc4-1a72c375ea64",
        "colab": {
          "base_uri": "https://localhost:8080/"
        }
      },
      "outputs": [
        {
          "output_type": "execute_result",
          "data": {
            "text/plain": [
              "16.8181817"
            ]
          },
          "metadata": {},
          "execution_count": 27
        }
      ],
      "source": [
        "modele.objective.value()"
      ]
    },
    {
      "cell_type": "code",
      "execution_count": null,
      "id": "b406d6d6",
      "metadata": {
        "id": "b406d6d6",
        "outputId": "fdfc2a73-2777-436e-cfd4-b27a8a7ac8c5"
      },
      "outputs": [
        {
          "name": "stdout",
          "output_type": "stream",
          "text": [
            "x: 7.7272727\n",
            "y: 4.5454545\n"
          ]
        }
      ],
      "source": [
        "for var in modele.variables():\n",
        "    print(f\"{var.name}: {var.value()}\")"
      ]
    },
    {
      "cell_type": "markdown",
      "id": "2b50cf3b",
      "metadata": {
        "id": "2b50cf3b"
      },
      "source": [
        "Comme avec SciPy, on peut obtenir la valeur des *écarts* des contraintes :"
      ]
    },
    {
      "cell_type": "code",
      "execution_count": 28,
      "id": "ebaf5caf",
      "metadata": {
        "id": "ebaf5caf",
        "outputId": "04a2d03d-41c5-4b6f-f8ee-367e400494de",
        "colab": {
          "base_uri": "https://localhost:8080/"
        }
      },
      "outputs": [
        {
          "output_type": "stream",
          "name": "stdout",
          "text": [
            "contrainte_rouge: -9.99999993922529e-08\n",
            "contrainte_bleue: 18.181818300000003\n",
            "contrainte_jaune: 3.3636362999999996\n",
            "contrainte_verte: -2.0000000233721948e-07\n"
          ]
        }
      ],
      "source": [
        "for nom, ecart in modele.constraints.items():\n",
        "...     print(f\"{nom}: {ecart.value()}\")"
      ]
    },
    {
      "cell_type": "markdown",
      "id": "959e6878",
      "metadata": {
        "id": "959e6878"
      },
      "source": [
        "Pour savoir quel solveur a été utilisé, vous pouvez regarder le contenu de l'attribut `.solver` :"
      ]
    },
    {
      "cell_type": "code",
      "execution_count": 29,
      "id": "82e9fc74",
      "metadata": {
        "id": "82e9fc74",
        "outputId": "c919f0b8-7702-4f64-94a1-199414eb6a04",
        "colab": {
          "base_uri": "https://localhost:8080/"
        }
      },
      "outputs": [
        {
          "output_type": "execute_result",
          "data": {
            "text/plain": [
              "<pulp.apis.coin_api.PULP_CBC_CMD at 0x7efe38a25330>"
            ]
          },
          "metadata": {},
          "execution_count": 29
        }
      ],
      "source": [
        "modele.solver"
      ]
    },
    {
      "cell_type": "markdown",
      "id": "a9533c44",
      "metadata": {
        "id": "a9533c44"
      },
      "source": [
        "Ici, c'est donc le solveur `CBC` qui a été utilisé. Vous pouvez en spéciifer un autre (du moment qu'il est installé sur votre machine) à l'aide de l'option `solver` de la méthode `solve()` ; par exemple, pour utiliser `GLPK` :\n",
        "```python\n",
        "!pip install glpk\n",
        "from pulp import GLPK\n",
        "modele.solve(solver=GLPK(msg=False))\n",
        "```"
      ]
    },
    {
      "cell_type": "markdown",
      "id": "8152c864",
      "metadata": {
        "id": "8152c864"
      },
      "source": [
        "#### Programmation linéaire en nombres entiers"
      ]
    },
    {
      "cell_type": "markdown",
      "id": "99721e68",
      "metadata": {
        "id": "99721e68"
      },
      "source": [
        "Il est très simple de spécifier qu'on souhaite une solution en nombres entiers : il suffit de modifier la catégorie des variables :\n",
        "```python\n",
        "# Initialisation des variables\n",
        "x = LpVariable(name=\"x\", lowBound=0, cat=\"Integer\")\n",
        "y = LpVariable(name=\"y\", lowBound=0, cat=\"Integer\")\n",
        "```"
      ]
    },
    {
      "cell_type": "code",
      "execution_count": 30,
      "id": "9ff52e91",
      "metadata": {
        "id": "9ff52e91",
        "outputId": "455642cd-5705-4ec9-96be-4c57b37c9b37",
        "colab": {
          "base_uri": "https://localhost:8080/"
        }
      },
      "outputs": [
        {
          "output_type": "stream",
          "name": "stdout",
          "text": [
            "Objectif :  13.0\n",
            "x: 5.0\n",
            "y: 4.0\n"
          ]
        }
      ],
      "source": [
        "# Création du modèle\n",
        "modele = LpProblem(name=\"exemple-tp\", sense=LpMaximize)\n",
        "\n",
        "# Initialisation des variables\n",
        "x = LpVariable(name=\"x\", lowBound=0, cat=\"Integer\")\n",
        "y = LpVariable(name=\"y\", lowBound=0, cat=\"Integer\")\n",
        "\n",
        "# Ajout des contraintes au modèle\n",
        "modele += (2 * x + y <= 20, \"contrainte rouge\")\n",
        "modele += (4 * x - 5 * y >= -10, \"contrainte bleue\")\n",
        "modele += (-x + 2 * y >= -2, \"contrainte jaune\")\n",
        "modele += (-x + 5 * y == 15, \"contrainte verte\")\n",
        "\n",
        "# Ajout de la fonction objectif\n",
        "obj_func = x + 2 * y\n",
        "modele += obj_func\n",
        "\n",
        "modele.solve()\n",
        "\n",
        "print(\"Objectif : \", modele.objective.value())\n",
        "\n",
        "for var in modele.variables():\n",
        "    print(f\"{var.name}: {var.value()}\")"
      ]
    },
    {
      "cell_type": "markdown",
      "id": "cbc750a6",
      "metadata": {
        "id": "cbc750a6"
      },
      "source": [
        "#### Exercice : modélisez le problème suivant à l'aide d'un programme linéaire, puis résolvez-le à l'aide de `PuLP`.\n",
        "Une entreprise commercialise deux types de véhicules électriques : le modèle 3 (au prix de 50 000 €) et le modèle S (au prix de 105 000 €). Pour construire ces voitures, deux types de robots ultra-modernes sont utilisés : le T800 pour la carrosserie et la peinture, et le T1000 pour la mécanique et l'électronique. Pour achever un modèle 3, il faut 2h de travail au T800 ainsi qu'au T1000 ; pour un modèle S, il faut deux fois plus de temps au T1000. L'usine dispose de 30 robots T800 et 24 robots T1000 ; mais pour des raisons techniques (risques de surchauffe, maintenance...) les robots ne peuvent pas travailler 24h/24 : un T800 peut travailler 20h par jour, et un T1000 seulement 18h.\n",
        "\n",
        "Par ailleurs, l'entreprise doit satisfaire le carnet de commandes : elle s'est engagée à livrer dans le mois 1236 modèles 3 et 238 modèles S. Compte tenu du marché, elle sait également qu'elle doit produire au moins trois fois plus de modèles 3 que de modèles S.\n",
        "\n",
        "Quel plan de production mensuelle (mois de 30 jours) des véhicules permet de dégager le maximum de profits à l'entreprise ?"
      ]
    },
    {
      "cell_type": "code",
      "execution_count": 35,
      "id": "5abc9c8d",
      "metadata": {
        "id": "5abc9c8d",
        "colab": {
          "base_uri": "https://localhost:8080/"
        },
        "outputId": "f08f328e-ea62-429a-f797-d2e7103d13f1"
      },
      "outputs": [
        {
          "output_type": "stream",
          "name": "stdout",
          "text": [
            "Objectif :  330480000.0\n",
            "x: 3888.0\n",
            "y: 1296.0\n"
          ]
        }
      ],
      "source": [
        "# Création du modèle\n",
        "modele = LpProblem(name=\"voituuuuure\", sense=LpMaximize)\n",
        "\n",
        "# Initialisation des variables\n",
        "x = LpVariable(name=\"x\", lowBound=0, cat=\"Integer\")\n",
        "y = LpVariable(name=\"y\", lowBound=0, cat=\"Integer\")\n",
        "\n",
        "# Ajout des contraintes au modèle\n",
        "\n",
        "# /!\\ /!\\ /!\\ /!\\ PROBLEME : ne tient pas compte de la discontinuité de la production\n",
        "# mais ici ça ne change pas le résultat\n",
        "modele += (2 * x + 2 * y <= 30 * 30 * 20, \"contrainte T800\")\n",
        "modele += (2 * x + 4 * y <= 30 * 24 * 18, \"contrainte T1000\")\n",
        "\n",
        "modele += (x == 3 * y, \"contrainte RATIO PROD\")\n",
        "\n",
        "modele += (x >= 1236, \"contrainte jaune2\")\n",
        "modele += (y >= 238, \"contrainte verte2\")\n",
        "\n",
        "# Ajout de la fonction objectif\n",
        "obj_func = x*50000 + y*105000\n",
        "modele += obj_func\n",
        "\n",
        "modele.solve()\n",
        "\n",
        "print(\"Objectif : \", modele.objective.value())\n",
        "\n",
        "for var in modele.variables():\n",
        "    print(f\"{var.name}: {var.value()}\")"
      ]
    },
    {
      "cell_type": "markdown",
      "id": "5e57a5f1",
      "metadata": {
        "id": "5e57a5f1"
      },
      "source": [
        "# Programmation linéaire et théorie des graphes"
      ]
    },
    {
      "cell_type": "markdown",
      "id": "ec8461d6",
      "metadata": {
        "id": "ec8461d6"
      },
      "source": [
        "De nombreux problèmes d'optimisation sur les graphes (recherche du plus grand stable, de la plus grande clique, problème de la coloration minimale, problèmes de plus court chemin, problème du voyageur de commerce...) peuvent être reformulés à l'aide d'un programme linéaire. L'avantage est immédiat : au lieu de développer un algorithme différent pour chacun de ces problèmes, il suffit de les modéliser avec un programme linéaire, puis d'appeler le solveur ! On a ainsi un seul et même algorithme pour résoudre tout un tas de problèmes !\n",
        "\n",
        "(Il y a cependant des inconvénients : la modélisation peut être difficile, et le solveur n'est pas toujours plus rapide qu'un algorithme \"dédié\".)\n",
        "\n",
        "Nous allons ici voir comment résoudre le **problème de la coloration minimale**. Pour rappel, on cherche à colorier les sommets d'un graphe en utilisant le moins possible de couleurs, tout en respectant la règle suivante : deux sommets voisins ne peuvent pas avoir la même couleur. A titre d'exercice, vous allez résoudre le problème sur le graphe suivant :\n",
        "![image-2.png](attachment:image-2.png)"
      ]
    },
    {
      "cell_type": "markdown",
      "id": "fa5a8ffe",
      "metadata": {
        "id": "fa5a8ffe"
      },
      "source": [
        "#### Modélisation\n",
        "On sait que pour un graphe comportant $n$ sommets, on aura besoin, au maximum, de $n$ couleurs (**pour quel type de graphe ?**).\n",
        "\n",
        "On note $c_1, c_2,...,c_n$ les variables associées à chaque couleur, de sorte que $c_i = 1$ si au moins un sommet utilise la couleur $i$, et $c_i = 0$ sinon.\n",
        "\n",
        "**Ecrivez la fonction objectif du problème**"
      ]
    },
    {
      "cell_type": "code",
      "source": [
        "adj_mat = [\n",
        "    [0, 1, 1, 0, 0],\n",
        "    [1, 0, 1, 1, 0],\n",
        "    [1, 1, 0, 1, 1],\n",
        "    [0, 1, 1, 0, 1],\n",
        "    [0, 0, 1, 1, 0]]\n",
        "\n",
        "n = len(adj_mat)\n",
        "# Création du modèle\n",
        "modele = LpProblem(name=\"coloration\", sense=LpMinimize)"
      ],
      "metadata": {
        "id": "ZoSHuoKHdA9O"
      },
      "id": "ZoSHuoKHdA9O",
      "execution_count": 110,
      "outputs": []
    },
    {
      "cell_type": "code",
      "source": [
        "c = []\n",
        "for i in range(n):\n",
        "  c.append(LpVariable(name=f\"c{i}\", lowBound=0, upBound=1, cat=\"Integer\"))\n",
        "\n",
        "obj_func = sum(c)\n",
        "modele += obj_func\n",
        "\n",
        "obj_func"
      ],
      "metadata": {
        "colab": {
          "base_uri": "https://localhost:8080/"
        },
        "id": "PQstSDc2M7yu",
        "outputId": "8a1a9373-18b7-4fb2-f3ac-17de9a7118fe"
      },
      "id": "PQstSDc2M7yu",
      "execution_count": 111,
      "outputs": [
        {
          "output_type": "execute_result",
          "data": {
            "text/plain": [
              "1*c0 + 1*c1 + 1*c2 + 1*c3 + 1*c4 + 0"
            ]
          },
          "metadata": {},
          "execution_count": 111
        }
      ]
    },
    {
      "cell_type": "markdown",
      "id": "974aafb8",
      "metadata": {
        "id": "974aafb8"
      },
      "source": [
        "On note $x_{ij}$ la variable qui vaut 1 si le sommet $i$ du graphe est colorié avec la couleur $j$.\n",
        "\n",
        "**Ecrivez la liste des contraintes signifiant que chaque sommet ne doit avoir qu'une et une seule couleur**"
      ]
    },
    {
      "cell_type": "code",
      "source": [
        "x = [[None] * n for _ in range(n)]\n",
        "for som in range(n):\n",
        "  for col in range(n):\n",
        "    x[som][col] = (LpVariable(name=f\"x-som({som})-col({col})\", lowBound=0, upBound=1, cat=\"Integer\"))\n",
        "\n",
        "\n",
        "for som in range(n):\n",
        "  modele += ( sum(x[som]) == 1 , f\"contrainte une couleur pour le sommet {som}\")\n",
        "\n",
        "x"
      ],
      "metadata": {
        "colab": {
          "base_uri": "https://localhost:8080/"
        },
        "id": "xXG3E7PdM-uO",
        "outputId": "211c0926-26b4-4c7d-9370-dfe73650ffbf"
      },
      "id": "xXG3E7PdM-uO",
      "execution_count": 112,
      "outputs": [
        {
          "output_type": "execute_result",
          "data": {
            "text/plain": [
              "[[x_som(0)_col(0),\n",
              "  x_som(0)_col(1),\n",
              "  x_som(0)_col(2),\n",
              "  x_som(0)_col(3),\n",
              "  x_som(0)_col(4)],\n",
              " [x_som(1)_col(0),\n",
              "  x_som(1)_col(1),\n",
              "  x_som(1)_col(2),\n",
              "  x_som(1)_col(3),\n",
              "  x_som(1)_col(4)],\n",
              " [x_som(2)_col(0),\n",
              "  x_som(2)_col(1),\n",
              "  x_som(2)_col(2),\n",
              "  x_som(2)_col(3),\n",
              "  x_som(2)_col(4)],\n",
              " [x_som(3)_col(0),\n",
              "  x_som(3)_col(1),\n",
              "  x_som(3)_col(2),\n",
              "  x_som(3)_col(3),\n",
              "  x_som(3)_col(4)],\n",
              " [x_som(4)_col(0),\n",
              "  x_som(4)_col(1),\n",
              "  x_som(4)_col(2),\n",
              "  x_som(4)_col(3),\n",
              "  x_som(4)_col(4)]]"
            ]
          },
          "metadata": {},
          "execution_count": 112
        }
      ]
    },
    {
      "cell_type": "markdown",
      "id": "79bf70ce",
      "metadata": {
        "id": "79bf70ce"
      },
      "source": [
        "c**Ecrivez la liste des contraintes signifiant que deux sommets voisins ne peuvent pas avoir la même couleur**"
      ]
    },
    {
      "cell_type": "code",
      "source": [
        "for som in range(n):\n",
        "  voisins = []\n",
        "  for i in range(n):\n",
        "    if adj_mat[som][i]: # si i est un voisin de som\n",
        "      voisins.append(i)\n",
        "  for voi in voisins:\n",
        "    for col in range(n):\n",
        "      modele += ( x[som][col] + x[voi][col] <= 1 , f\"contrainte couleur {col} du sommet {som} differente de celle du sommet {voi}\")\n",
        "\n"
      ],
      "metadata": {
        "id": "RrLsoENGM_CM"
      },
      "id": "RrLsoENGM_CM",
      "execution_count": 113,
      "outputs": []
    },
    {
      "cell_type": "markdown",
      "id": "bdd298e1",
      "metadata": {
        "id": "bdd298e1"
      },
      "source": [
        "**Ecrivez la liste des contraintes forçant la variable $c_j$ à 1, dès qu'une variable $x_{ij}$ vaut 1**"
      ]
    },
    {
      "cell_type": "code",
      "source": [
        "x[:][1]"
      ],
      "metadata": {
        "colab": {
          "base_uri": "https://localhost:8080/"
        },
        "id": "PPvYfkuDfOIR",
        "outputId": "01a98ac7-7352-47d5-ab52-40ef5f17201e"
      },
      "id": "PPvYfkuDfOIR",
      "execution_count": 115,
      "outputs": [
        {
          "output_type": "execute_result",
          "data": {
            "text/plain": [
              "[x_som(1)_col(0),\n",
              " x_som(1)_col(1),\n",
              " x_som(1)_col(2),\n",
              " x_som(1)_col(3),\n",
              " x_som(1)_col(4)]"
            ]
          },
          "metadata": {},
          "execution_count": 115
        }
      ]
    },
    {
      "cell_type": "code",
      "source": [
        "for col in range(n):\n",
        "    modele += ( lpSum( x[:][col] ) <= c[col] , f\"contrainte couleur {col} \")"
      ],
      "metadata": {
        "id": "TVHxf6ZFM_w0"
      },
      "id": "TVHxf6ZFM_w0",
      "execution_count": 101,
      "outputs": []
    },
    {
      "cell_type": "markdown",
      "id": "679c3db0",
      "metadata": {
        "id": "679c3db0"
      },
      "source": [
        "#### Résolution\n",
        "Utilisez `PuLP` pour résoudre le programme linéaire que vous venez d'écrire.\n",
        "\n",
        "💡 Pensez à utiliser des boucles pour créer vos contraintes, et à afficher le modèle créé pour vérifier qu'il correspond bien à ce que vous avez obtenu lors de la modélisation."
      ]
    },
    {
      "cell_type": "code",
      "source": [
        "modele"
      ],
      "metadata": {
        "colab": {
          "base_uri": "https://localhost:8080/"
        },
        "id": "n4B9N25Zdcsh",
        "outputId": "23afa12c-933f-48e5-eb9d-6913f426586d"
      },
      "id": "n4B9N25Zdcsh",
      "execution_count": 116,
      "outputs": [
        {
          "output_type": "execute_result",
          "data": {
            "text/plain": [
              "coloration:\n",
              "MINIMIZE\n",
              "1*c0 + 1*c1 + 1*c2 + 1*c3 + 1*c4 + 0\n",
              "SUBJECT TO\n",
              "contrainte_une_couleur_pour_le_sommet_0: x_som(0)_col(0) + x_som(0)_col(1)\n",
              " + x_som(0)_col(2) + x_som(0)_col(3) + x_som(0)_col(4) = 1\n",
              "\n",
              "contrainte_une_couleur_pour_le_sommet_1: x_som(1)_col(0) + x_som(1)_col(1)\n",
              " + x_som(1)_col(2) + x_som(1)_col(3) + x_som(1)_col(4) = 1\n",
              "\n",
              "contrainte_une_couleur_pour_le_sommet_2: x_som(2)_col(0) + x_som(2)_col(1)\n",
              " + x_som(2)_col(2) + x_som(2)_col(3) + x_som(2)_col(4) = 1\n",
              "\n",
              "contrainte_une_couleur_pour_le_sommet_3: x_som(3)_col(0) + x_som(3)_col(1)\n",
              " + x_som(3)_col(2) + x_som(3)_col(3) + x_som(3)_col(4) = 1\n",
              "\n",
              "contrainte_une_couleur_pour_le_sommet_4: x_som(4)_col(0) + x_som(4)_col(1)\n",
              " + x_som(4)_col(2) + x_som(4)_col(3) + x_som(4)_col(4) = 1\n",
              "\n",
              "contrainte_couleur_0_du_sommet_0_differente_de_celle_du_sommet_1:\n",
              " x_som(0)_col(0) + x_som(1)_col(0) <= 1\n",
              "\n",
              "contrainte_couleur_1_du_sommet_0_differente_de_celle_du_sommet_1:\n",
              " x_som(0)_col(1) + x_som(1)_col(1) <= 1\n",
              "\n",
              "contrainte_couleur_2_du_sommet_0_differente_de_celle_du_sommet_1:\n",
              " x_som(0)_col(2) + x_som(1)_col(2) <= 1\n",
              "\n",
              "contrainte_couleur_3_du_sommet_0_differente_de_celle_du_sommet_1:\n",
              " x_som(0)_col(3) + x_som(1)_col(3) <= 1\n",
              "\n",
              "contrainte_couleur_4_du_sommet_0_differente_de_celle_du_sommet_1:\n",
              " x_som(0)_col(4) + x_som(1)_col(4) <= 1\n",
              "\n",
              "contrainte_couleur_0_du_sommet_0_differente_de_celle_du_sommet_2:\n",
              " x_som(0)_col(0) + x_som(2)_col(0) <= 1\n",
              "\n",
              "contrainte_couleur_1_du_sommet_0_differente_de_celle_du_sommet_2:\n",
              " x_som(0)_col(1) + x_som(2)_col(1) <= 1\n",
              "\n",
              "contrainte_couleur_2_du_sommet_0_differente_de_celle_du_sommet_2:\n",
              " x_som(0)_col(2) + x_som(2)_col(2) <= 1\n",
              "\n",
              "contrainte_couleur_3_du_sommet_0_differente_de_celle_du_sommet_2:\n",
              " x_som(0)_col(3) + x_som(2)_col(3) <= 1\n",
              "\n",
              "contrainte_couleur_4_du_sommet_0_differente_de_celle_du_sommet_2:\n",
              " x_som(0)_col(4) + x_som(2)_col(4) <= 1\n",
              "\n",
              "contrainte_couleur_0_du_sommet_1_differente_de_celle_du_sommet_0:\n",
              " x_som(0)_col(0) + x_som(1)_col(0) <= 1\n",
              "\n",
              "contrainte_couleur_1_du_sommet_1_differente_de_celle_du_sommet_0:\n",
              " x_som(0)_col(1) + x_som(1)_col(1) <= 1\n",
              "\n",
              "contrainte_couleur_2_du_sommet_1_differente_de_celle_du_sommet_0:\n",
              " x_som(0)_col(2) + x_som(1)_col(2) <= 1\n",
              "\n",
              "contrainte_couleur_3_du_sommet_1_differente_de_celle_du_sommet_0:\n",
              " x_som(0)_col(3) + x_som(1)_col(3) <= 1\n",
              "\n",
              "contrainte_couleur_4_du_sommet_1_differente_de_celle_du_sommet_0:\n",
              " x_som(0)_col(4) + x_som(1)_col(4) <= 1\n",
              "\n",
              "contrainte_couleur_0_du_sommet_1_differente_de_celle_du_sommet_2:\n",
              " x_som(1)_col(0) + x_som(2)_col(0) <= 1\n",
              "\n",
              "contrainte_couleur_1_du_sommet_1_differente_de_celle_du_sommet_2:\n",
              " x_som(1)_col(1) + x_som(2)_col(1) <= 1\n",
              "\n",
              "contrainte_couleur_2_du_sommet_1_differente_de_celle_du_sommet_2:\n",
              " x_som(1)_col(2) + x_som(2)_col(2) <= 1\n",
              "\n",
              "contrainte_couleur_3_du_sommet_1_differente_de_celle_du_sommet_2:\n",
              " x_som(1)_col(3) + x_som(2)_col(3) <= 1\n",
              "\n",
              "contrainte_couleur_4_du_sommet_1_differente_de_celle_du_sommet_2:\n",
              " x_som(1)_col(4) + x_som(2)_col(4) <= 1\n",
              "\n",
              "contrainte_couleur_0_du_sommet_1_differente_de_celle_du_sommet_3:\n",
              " x_som(1)_col(0) + x_som(3)_col(0) <= 1\n",
              "\n",
              "contrainte_couleur_1_du_sommet_1_differente_de_celle_du_sommet_3:\n",
              " x_som(1)_col(1) + x_som(3)_col(1) <= 1\n",
              "\n",
              "contrainte_couleur_2_du_sommet_1_differente_de_celle_du_sommet_3:\n",
              " x_som(1)_col(2) + x_som(3)_col(2) <= 1\n",
              "\n",
              "contrainte_couleur_3_du_sommet_1_differente_de_celle_du_sommet_3:\n",
              " x_som(1)_col(3) + x_som(3)_col(3) <= 1\n",
              "\n",
              "contrainte_couleur_4_du_sommet_1_differente_de_celle_du_sommet_3:\n",
              " x_som(1)_col(4) + x_som(3)_col(4) <= 1\n",
              "\n",
              "contrainte_couleur_0_du_sommet_2_differente_de_celle_du_sommet_0:\n",
              " x_som(0)_col(0) + x_som(2)_col(0) <= 1\n",
              "\n",
              "contrainte_couleur_1_du_sommet_2_differente_de_celle_du_sommet_0:\n",
              " x_som(0)_col(1) + x_som(2)_col(1) <= 1\n",
              "\n",
              "contrainte_couleur_2_du_sommet_2_differente_de_celle_du_sommet_0:\n",
              " x_som(0)_col(2) + x_som(2)_col(2) <= 1\n",
              "\n",
              "contrainte_couleur_3_du_sommet_2_differente_de_celle_du_sommet_0:\n",
              " x_som(0)_col(3) + x_som(2)_col(3) <= 1\n",
              "\n",
              "contrainte_couleur_4_du_sommet_2_differente_de_celle_du_sommet_0:\n",
              " x_som(0)_col(4) + x_som(2)_col(4) <= 1\n",
              "\n",
              "contrainte_couleur_0_du_sommet_2_differente_de_celle_du_sommet_1:\n",
              " x_som(1)_col(0) + x_som(2)_col(0) <= 1\n",
              "\n",
              "contrainte_couleur_1_du_sommet_2_differente_de_celle_du_sommet_1:\n",
              " x_som(1)_col(1) + x_som(2)_col(1) <= 1\n",
              "\n",
              "contrainte_couleur_2_du_sommet_2_differente_de_celle_du_sommet_1:\n",
              " x_som(1)_col(2) + x_som(2)_col(2) <= 1\n",
              "\n",
              "contrainte_couleur_3_du_sommet_2_differente_de_celle_du_sommet_1:\n",
              " x_som(1)_col(3) + x_som(2)_col(3) <= 1\n",
              "\n",
              "contrainte_couleur_4_du_sommet_2_differente_de_celle_du_sommet_1:\n",
              " x_som(1)_col(4) + x_som(2)_col(4) <= 1\n",
              "\n",
              "contrainte_couleur_0_du_sommet_2_differente_de_celle_du_sommet_3:\n",
              " x_som(2)_col(0) + x_som(3)_col(0) <= 1\n",
              "\n",
              "contrainte_couleur_1_du_sommet_2_differente_de_celle_du_sommet_3:\n",
              " x_som(2)_col(1) + x_som(3)_col(1) <= 1\n",
              "\n",
              "contrainte_couleur_2_du_sommet_2_differente_de_celle_du_sommet_3:\n",
              " x_som(2)_col(2) + x_som(3)_col(2) <= 1\n",
              "\n",
              "contrainte_couleur_3_du_sommet_2_differente_de_celle_du_sommet_3:\n",
              " x_som(2)_col(3) + x_som(3)_col(3) <= 1\n",
              "\n",
              "contrainte_couleur_4_du_sommet_2_differente_de_celle_du_sommet_3:\n",
              " x_som(2)_col(4) + x_som(3)_col(4) <= 1\n",
              "\n",
              "contrainte_couleur_0_du_sommet_2_differente_de_celle_du_sommet_4:\n",
              " x_som(2)_col(0) + x_som(4)_col(0) <= 1\n",
              "\n",
              "contrainte_couleur_1_du_sommet_2_differente_de_celle_du_sommet_4:\n",
              " x_som(2)_col(1) + x_som(4)_col(1) <= 1\n",
              "\n",
              "contrainte_couleur_2_du_sommet_2_differente_de_celle_du_sommet_4:\n",
              " x_som(2)_col(2) + x_som(4)_col(2) <= 1\n",
              "\n",
              "contrainte_couleur_3_du_sommet_2_differente_de_celle_du_sommet_4:\n",
              " x_som(2)_col(3) + x_som(4)_col(3) <= 1\n",
              "\n",
              "contrainte_couleur_4_du_sommet_2_differente_de_celle_du_sommet_4:\n",
              " x_som(2)_col(4) + x_som(4)_col(4) <= 1\n",
              "\n",
              "contrainte_couleur_0_du_sommet_3_differente_de_celle_du_sommet_1:\n",
              " x_som(1)_col(0) + x_som(3)_col(0) <= 1\n",
              "\n",
              "contrainte_couleur_1_du_sommet_3_differente_de_celle_du_sommet_1:\n",
              " x_som(1)_col(1) + x_som(3)_col(1) <= 1\n",
              "\n",
              "contrainte_couleur_2_du_sommet_3_differente_de_celle_du_sommet_1:\n",
              " x_som(1)_col(2) + x_som(3)_col(2) <= 1\n",
              "\n",
              "contrainte_couleur_3_du_sommet_3_differente_de_celle_du_sommet_1:\n",
              " x_som(1)_col(3) + x_som(3)_col(3) <= 1\n",
              "\n",
              "contrainte_couleur_4_du_sommet_3_differente_de_celle_du_sommet_1:\n",
              " x_som(1)_col(4) + x_som(3)_col(4) <= 1\n",
              "\n",
              "contrainte_couleur_0_du_sommet_3_differente_de_celle_du_sommet_2:\n",
              " x_som(2)_col(0) + x_som(3)_col(0) <= 1\n",
              "\n",
              "contrainte_couleur_1_du_sommet_3_differente_de_celle_du_sommet_2:\n",
              " x_som(2)_col(1) + x_som(3)_col(1) <= 1\n",
              "\n",
              "contrainte_couleur_2_du_sommet_3_differente_de_celle_du_sommet_2:\n",
              " x_som(2)_col(2) + x_som(3)_col(2) <= 1\n",
              "\n",
              "contrainte_couleur_3_du_sommet_3_differente_de_celle_du_sommet_2:\n",
              " x_som(2)_col(3) + x_som(3)_col(3) <= 1\n",
              "\n",
              "contrainte_couleur_4_du_sommet_3_differente_de_celle_du_sommet_2:\n",
              " x_som(2)_col(4) + x_som(3)_col(4) <= 1\n",
              "\n",
              "contrainte_couleur_0_du_sommet_3_differente_de_celle_du_sommet_4:\n",
              " x_som(3)_col(0) + x_som(4)_col(0) <= 1\n",
              "\n",
              "contrainte_couleur_1_du_sommet_3_differente_de_celle_du_sommet_4:\n",
              " x_som(3)_col(1) + x_som(4)_col(1) <= 1\n",
              "\n",
              "contrainte_couleur_2_du_sommet_3_differente_de_celle_du_sommet_4:\n",
              " x_som(3)_col(2) + x_som(4)_col(2) <= 1\n",
              "\n",
              "contrainte_couleur_3_du_sommet_3_differente_de_celle_du_sommet_4:\n",
              " x_som(3)_col(3) + x_som(4)_col(3) <= 1\n",
              "\n",
              "contrainte_couleur_4_du_sommet_3_differente_de_celle_du_sommet_4:\n",
              " x_som(3)_col(4) + x_som(4)_col(4) <= 1\n",
              "\n",
              "contrainte_couleur_0_du_sommet_4_differente_de_celle_du_sommet_2:\n",
              " x_som(2)_col(0) + x_som(4)_col(0) <= 1\n",
              "\n",
              "contrainte_couleur_1_du_sommet_4_differente_de_celle_du_sommet_2:\n",
              " x_som(2)_col(1) + x_som(4)_col(1) <= 1\n",
              "\n",
              "contrainte_couleur_2_du_sommet_4_differente_de_celle_du_sommet_2:\n",
              " x_som(2)_col(2) + x_som(4)_col(2) <= 1\n",
              "\n",
              "contrainte_couleur_3_du_sommet_4_differente_de_celle_du_sommet_2:\n",
              " x_som(2)_col(3) + x_som(4)_col(3) <= 1\n",
              "\n",
              "contrainte_couleur_4_du_sommet_4_differente_de_celle_du_sommet_2:\n",
              " x_som(2)_col(4) + x_som(4)_col(4) <= 1\n",
              "\n",
              "contrainte_couleur_0_du_sommet_4_differente_de_celle_du_sommet_3:\n",
              " x_som(3)_col(0) + x_som(4)_col(0) <= 1\n",
              "\n",
              "contrainte_couleur_1_du_sommet_4_differente_de_celle_du_sommet_3:\n",
              " x_som(3)_col(1) + x_som(4)_col(1) <= 1\n",
              "\n",
              "contrainte_couleur_2_du_sommet_4_differente_de_celle_du_sommet_3:\n",
              " x_som(3)_col(2) + x_som(4)_col(2) <= 1\n",
              "\n",
              "contrainte_couleur_3_du_sommet_4_differente_de_celle_du_sommet_3:\n",
              " x_som(3)_col(3) + x_som(4)_col(3) <= 1\n",
              "\n",
              "contrainte_couleur_4_du_sommet_4_differente_de_celle_du_sommet_3:\n",
              " x_som(3)_col(4) + x_som(4)_col(4) <= 1\n",
              "\n",
              "VARIABLES\n",
              "0 <= c0 <= 1 Integer\n",
              "0 <= c1 <= 1 Integer\n",
              "0 <= c2 <= 1 Integer\n",
              "0 <= c3 <= 1 Integer\n",
              "0 <= c4 <= 1 Integer\n",
              "0 <= x_som(0)_col(0) <= 1 Integer\n",
              "0 <= x_som(0)_col(1) <= 1 Integer\n",
              "0 <= x_som(0)_col(2) <= 1 Integer\n",
              "0 <= x_som(0)_col(3) <= 1 Integer\n",
              "0 <= x_som(0)_col(4) <= 1 Integer\n",
              "0 <= x_som(1)_col(0) <= 1 Integer\n",
              "0 <= x_som(1)_col(1) <= 1 Integer\n",
              "0 <= x_som(1)_col(2) <= 1 Integer\n",
              "0 <= x_som(1)_col(3) <= 1 Integer\n",
              "0 <= x_som(1)_col(4) <= 1 Integer\n",
              "0 <= x_som(2)_col(0) <= 1 Integer\n",
              "0 <= x_som(2)_col(1) <= 1 Integer\n",
              "0 <= x_som(2)_col(2) <= 1 Integer\n",
              "0 <= x_som(2)_col(3) <= 1 Integer\n",
              "0 <= x_som(2)_col(4) <= 1 Integer\n",
              "0 <= x_som(3)_col(0) <= 1 Integer\n",
              "0 <= x_som(3)_col(1) <= 1 Integer\n",
              "0 <= x_som(3)_col(2) <= 1 Integer\n",
              "0 <= x_som(3)_col(3) <= 1 Integer\n",
              "0 <= x_som(3)_col(4) <= 1 Integer\n",
              "0 <= x_som(4)_col(0) <= 1 Integer\n",
              "0 <= x_som(4)_col(1) <= 1 Integer\n",
              "0 <= x_som(4)_col(2) <= 1 Integer\n",
              "0 <= x_som(4)_col(3) <= 1 Integer\n",
              "0 <= x_som(4)_col(4) <= 1 Integer"
            ]
          },
          "metadata": {},
          "execution_count": 116
        }
      ]
    },
    {
      "cell_type": "code",
      "execution_count": 117,
      "id": "e4c540b2",
      "metadata": {
        "id": "e4c540b2",
        "colab": {
          "base_uri": "https://localhost:8080/"
        },
        "outputId": "3a21f51d-55fa-43a8-bc52-29900fb2a479"
      },
      "outputs": [
        {
          "output_type": "stream",
          "name": "stdout",
          "text": [
            "Objectif :  0.0\n",
            "c0: 0.0\n",
            "c1: 0.0\n",
            "c2: 0.0\n",
            "c3: 0.0\n",
            "c4: 0.0\n",
            "x_som(0)_col(0): 0.0\n",
            "x_som(0)_col(1): 0.0\n",
            "x_som(0)_col(2): 0.0\n",
            "x_som(0)_col(3): 1.0\n",
            "x_som(0)_col(4): 0.0\n",
            "x_som(1)_col(0): 1.0\n",
            "x_som(1)_col(1): 0.0\n",
            "x_som(1)_col(2): 0.0\n",
            "x_som(1)_col(3): 0.0\n",
            "x_som(1)_col(4): 0.0\n",
            "x_som(2)_col(0): 0.0\n",
            "x_som(2)_col(1): 1.0\n",
            "x_som(2)_col(2): 0.0\n",
            "x_som(2)_col(3): 0.0\n",
            "x_som(2)_col(4): 0.0\n",
            "x_som(3)_col(0): 0.0\n",
            "x_som(3)_col(1): 0.0\n",
            "x_som(3)_col(2): 1.0\n",
            "x_som(3)_col(3): 0.0\n",
            "x_som(3)_col(4): 0.0\n",
            "x_som(4)_col(0): 1.0\n",
            "x_som(4)_col(1): 0.0\n",
            "x_som(4)_col(2): 0.0\n",
            "x_som(4)_col(3): 0.0\n",
            "x_som(4)_col(4): 0.0\n"
          ]
        }
      ],
      "source": [
        "modele.solve()\n",
        "\n",
        "print(\"Objectif : \", modele.objective.value())\n",
        "\n",
        "for var in modele.variables():\n",
        "    print(f\"{var.name}: {var.value()}\")"
      ]
    },
    {
      "cell_type": "code",
      "source": [
        "import networkx as nx\n",
        "import numpy as np\n",
        "\n",
        "# adjacency matrix\n",
        "adj_matrix = np.array(adj_mat)\n",
        "\n",
        "# create graph from adjacency matrix\n",
        "G = nx.from_numpy_array(adj_matrix)\n",
        "\n",
        "colors = ['#1f77b4', '#ff7f0e', '#2ca02c', '#d62728', '#9467bd',\n",
        "          '#8c564b', '#e377c2', '#7f7f7f', '#bcbd22', '#17becf',\n",
        "          '#2c7fb8', '#ff9896', '#98df8a', '#aec7e8', '#f7b6d2',\n",
        "          '#c5b0d5', '#ffbb78', '#c49c94', '#9edae5', '#dbdb8d']\n",
        "node_colors = []\n",
        "\n",
        "for i in range(n):\n",
        "  for j in range(n):\n",
        "    for var in modele.variables():\n",
        "      if var.name == f\"x_som({i})_col({j})\":\n",
        "        if var.value() == 1.0:\n",
        "          node_colors.append(colors[j])\n",
        "\n",
        "\n",
        "\n",
        "# draw the graph\n",
        "nx.draw(G, with_labels=True, node_color=node_colors)\n"
      ],
      "metadata": {
        "colab": {
          "base_uri": "https://localhost:8080/",
          "height": 516
        },
        "id": "lV9iMRNjir4X",
        "outputId": "fbde4859-2afd-4024-995d-e34f68a319c4"
      },
      "id": "lV9iMRNjir4X",
      "execution_count": 134,
      "outputs": [
        {
          "output_type": "display_data",
          "data": {
            "text/plain": [
              "<Figure size 640x480 with 1 Axes>"
            ],
            "image/png": "[encoded data removed]"
          },
          "metadata": {}
        }
      ]
    },
    {
      "cell_type": "markdown",
      "id": "78f2407d",
      "metadata": {
        "id": "78f2407d"
      },
      "source": [
        "Pour les plus curieux... et les plus téméraires, la documentation de `PuLP` donne un exemple complet de résolution d'un sudoku à l'aide d'un programme linéaire : https://coin-or.github.io/pulp/CaseStudies/a_sudoku_problem.html"
      ]
    }
  ],
  "metadata": {
    "kernelspec": {
      "display_name": "Python 3 (ipykernel)",
      "language": "python",
      "name": "python3"
    },
    "language_info": {
      "codemirror_mode": {
        "name": "ipython",
        "version": 3
      },
      "file_extension": ".py",
      "mimetype": "text/x-python",
      "name": "python",
      "nbconvert_exporter": "python",
      "pygments_lexer": "ipython3",
      "version": "3.9.15"
    },
    "colab": {
      "provenance": []
    }
  },
  "nbformat": 4,
  "nbformat_minor": 5
}